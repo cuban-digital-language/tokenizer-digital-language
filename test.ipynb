{
 "cells": [
  {
   "cell_type": "code",
   "execution_count": 1,
   "metadata": {},
   "outputs": [
    {
     "name": "stderr",
     "output_type": "stream",
     "text": [
      "/Users/dany/.local/share/virtualenvs/cuba-digital-lang-9Kd57kqM/lib/python3.9/site-packages/tqdm/auto.py:22: TqdmWarning: IProgress not found. Please update jupyter and ipywidgets. See https://ipywidgets.readthedocs.io/en/stable/user_install.html\n",
      "  from .autonotebook import tqdm as notebook_tqdm\n"
     ]
    }
   ],
   "source": [
    "from custom_tokenizer import spacy_custom_tokenizer, nlp\n",
    "\n",
    "nlp.tokenizer = spacy_custom_tokenizer(nlp)"
   ]
  },
  {
   "cell_type": "code",
   "execution_count": 2,
   "metadata": {},
   "outputs": [
    {
     "data": {
      "text/plain": [
       "True"
      ]
     },
     "execution_count": 2,
     "metadata": {},
     "output_type": "execute_result"
    }
   ],
   "source": [
    "'#' in nlp.Defaults.prefixes"
   ]
  },
  {
   "cell_type": "code",
   "execution_count": 3,
   "metadata": {},
   "outputs": [
    {
     "name": "stdout",
     "output_type": "stream",
     "text": [
      "['#hola']\n",
      "['@daniel']\n",
      "['#holaMundo']\n",
      "['#hola-Mundo']\n",
      "['@hola_mundo']\n",
      "['.', 'hola']\n",
      "['-', '-', 'Hola']\n",
      "['-', '¿', 'Cuál']\n",
      "['!', 'También']\n",
      "['“', 'Todos']\n",
      "['3', 'veces']\n",
      "['“', 'Nadie']\n",
      "['¨', 'sus']\n",
      "['-', 'tú']\n"
     ]
    }
   ],
   "source": [
    "\"\"\"prefix texter\"\"\"\n",
    "\n",
    "test = [\n",
    "    ('#hola', ['#hola']),\n",
    "    ('@daniel', ['@daniel']),\n",
    "    ('#holaMundo', ['#holaMundo']),\n",
    "    ('#hola-Mundo', ['#hola-Mundo']),\n",
    "    ('@hola_mundo', ['@hola_mundo']),\n",
    "    ('.hola', ['.','hola']),\n",
    "    ('--Hola', ['-', '-','Hola']),\n",
    "    (\"-¿Cuál\", ['-','¿','Cuál']),\n",
    "    ('!También', ['!', 'También']),\n",
    "    ( '“Todos', ['“','Todos']),\n",
    "    ( '3veces', ['3', 'veces'] ),\n",
    "    ('“Nadie', ['“', 'Nadie']),\n",
    "    ('¨sus', ['¨','sus']),\n",
    "    ('-tú', ['-','tú'])\n",
    "\n",
    "]\n",
    "\n",
    "for text, trusted in test:\n",
    "    result = [t.text for t in nlp(text)]\n",
    "    print(result)\n",
    "    assert result == trusted"
   ]
  },
  {
   "cell_type": "code",
   "execution_count": 4,
   "metadata": {},
   "outputs": [
    {
     "name": "stdout",
     "output_type": "stream",
     "text": [
      "['hola', '?']\n",
      "['hola', '.']\n",
      "['hola', ',']\n",
      "['hola', '!']\n",
      "['hola', '#']\n",
      "['hola', '@']\n",
      "['Walkie', '-']\n",
      "['hablas', '?', '-']\n",
      "['acongojada', ':', '¡', 'Arde']\n",
      "['todos', \"'\"]\n",
      "['cuba', '/']\n"
     ]
    }
   ],
   "source": [
    "\"\"\"suffix texter\"\"\"\n",
    "\n",
    "test = [\n",
    "    ('hola?', ['hola', '?']),\n",
    "    ('hola.', ['hola', '.']),\n",
    "    ('hola,', ['hola', ',']),\n",
    "    ('hola!', ['hola', '!']),\n",
    "    ('hola#', ['hola', '#']),\n",
    "    ('hola@', ['hola', '@']),\n",
    "    (\"Walkie-\", [\"Walkie\",\"-\"]),\n",
    "    ('hablas?-', ['hablas', '?', '-']),\n",
    "    ('acongojada:¡Arde', ['acongojada', ':', '¡','Arde']),  \n",
    "    (\"todos'\", [\"todos\", \"'\"]),\n",
    "    ('cuba/', ['cuba','/'])\n",
    "]\n",
    "\n",
    "\n",
    "for text, trusted in test:\n",
    "    result = [t.text for t in nlp(text)]\n",
    "    print(result)\n",
    "    assert result == trusted"
   ]
  },
  {
   "cell_type": "code",
   "execution_count": 5,
   "metadata": {},
   "outputs": [
    {
     "name": "stdout",
     "output_type": "stream",
     "text": [
      "['refuerzo', '?', 'que']\n",
      "['el', '.', 'negocio']\n",
      "['Na', '!', '!', '!', ',', 'eso']\n",
      "['justo', ',', ',', ',', 'era']\n",
      "['evento', ',', '¿', 'qué']\n",
      "['P4', '+', 'la']\n",
      "['leoncitos', '¨', 'les']\n",
      "['dos', '(', '2']\n",
      "['cerebro', ';', 'soy']\n"
     ]
    }
   ],
   "source": [
    "\"\"\"infix texter\"\"\"\n",
    "\n",
    "test = [\n",
    "    ('refuerzo?que', ['refuerzo', '?', 'que']),\n",
    "    ('el.negocio', ['el', '.', 'negocio']),\n",
    "    (\"Na!!!,eso\", ['Na', '!', '!', '!', ',', 'eso']),\n",
    "    ('justo,,,era', ['justo', ',', ',', ',', 'era']),\n",
    "    ('evento,¿qué', ['evento', ',', '¿', 'qué']),\n",
    "    ('P4+la', ['P4', '+', 'la']),\n",
    "    (\"leoncitos¨les\", ['leoncitos','¨','les']),\n",
    "    ('dos(2', ['dos','(','2']),\n",
    "    ('cerebro;soy', ['cerebro', ';', 'soy']),\n",
    "]\n",
    "\n",
    "\n",
    "for text, trusted in test:\n",
    "    result = [t.text for t in nlp(text)]\n",
    "    print(result)\n",
    "    assert result == trusted"
   ]
  },
  {
   "cell_type": "code",
   "execution_count": null,
   "metadata": {},
   "outputs": [],
   "source": []
  }
 ],
 "metadata": {
  "kernelspec": {
   "display_name": "cuba-digital-lang",
   "language": "python",
   "name": "cuba-digital-lang"
  },
  "language_info": {
   "codemirror_mode": {
    "name": "ipython",
    "version": 3
   },
   "file_extension": ".py",
   "mimetype": "text/x-python",
   "name": "python",
   "nbconvert_exporter": "python",
   "pygments_lexer": "ipython3",
   "version": "3.9.10"
  },
  "orig_nbformat": 4
 },
 "nbformat": 4,
 "nbformat_minor": 2
}
